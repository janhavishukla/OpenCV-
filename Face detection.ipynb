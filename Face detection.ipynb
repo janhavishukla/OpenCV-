{
 "cells": [
  {
   "cell_type": "code",
   "execution_count": 1,
   "metadata": {},
   "outputs": [],
   "source": [
    "import numpy as np\n",
    "import cv2"
   ]
  },
  {
   "cell_type": "code",
   "execution_count": 2,
   "metadata": {},
   "outputs": [],
   "source": [
    "face_cascade = cv2.CascadeClassifier(cv2.data.haarcascades + \"haarcascade_frontalface_default.xml\")\n",
    "video_capture = cv2.VideoCapture(0)\n",
    "scale_factor = 1.3\n"
   ]
  },
  {
   "cell_type": "code",
   "execution_count": 3,
   "metadata": {},
   "outputs": [
    {
     "name": "stdout",
     "output_type": "stream",
     "text": [
      "Number of faces found {} 0\n",
      "Number of faces found {} 0\n",
      "Number of faces found {} 0\n",
      "Number of faces found {} 0\n",
      "Number of faces found {} 0\n",
      "Number of faces found {} 0\n",
      "Number of faces found {} 0\n",
      "Number of faces found {} 0\n",
      "Number of faces found {} 0\n",
      "Number of faces found {} 0\n",
      "Number of faces found {} 0\n",
      "Number of faces found {} 0\n",
      "Number of faces found {} 0\n",
      "Number of faces found {} 0\n",
      "Number of faces found {} 0\n",
      "Number of faces found {} 0\n",
      "Number of faces found {} 0\n",
      "Number of faces found {} 0\n",
      "Number of faces found {} 0\n",
      "Number of faces found {} 0\n",
      "Number of faces found {} 0\n",
      "Number of faces found {} 0\n",
      "Number of faces found {} 0\n",
      "Number of faces found {} 0\n",
      "Number of faces found {} 0\n",
      "Number of faces found {} 0\n",
      "Number of faces found {} 0\n",
      "Number of faces found {} 0\n",
      "Number of faces found {} 0\n",
      "Number of faces found {} 0\n",
      "Number of faces found {} 0\n",
      "Number of faces found {} 0\n",
      "Number of faces found {} 0\n",
      "Number of faces found {} 0\n",
      "Number of faces found {} 0\n",
      "Number of faces found {} 0\n",
      "Number of faces found {} 0\n",
      "Number of faces found {} 0\n",
      "Number of faces found {} 0\n",
      "Number of faces found {} 0\n",
      "Number of faces found {} 0\n",
      "Number of faces found {} 0\n",
      "Number of faces found {} 0\n",
      "Number of faces found {} 0\n",
      "Number of faces found {} 0\n",
      "Number of faces found {} 0\n",
      "Number of faces found {} 0\n",
      "Number of faces found {} 0\n",
      "Number of faces found {} 0\n",
      "Number of faces found {} 0\n",
      "Number of faces found {} 0\n",
      "Number of faces found {} 0\n",
      "Number of faces found {} 0\n",
      "Number of faces found {} 0\n",
      "Number of faces found {} 0\n",
      "Number of faces found {} 0\n",
      "Number of faces found {} 0\n",
      "Number of faces found {} 0\n",
      "Number of faces found {} 0\n",
      "Number of faces found {} 0\n",
      "Number of faces found {} 0\n",
      "Number of faces found {} 0\n",
      "Number of faces found {} 0\n",
      "Number of faces found {} 0\n",
      "Number of faces found {} 0\n",
      "Number of faces found {} 0\n",
      "Number of faces found {} 0\n",
      "Number of faces found {} 1\n",
      "Number of faces found {} 1\n",
      "Number of faces found {} 1\n",
      "Number of faces found {} 1\n",
      "Number of faces found {} 1\n",
      "Number of faces found {} 1\n",
      "Number of faces found {} 1\n",
      "Number of faces found {} 1\n",
      "Number of faces found {} 1\n",
      "Number of faces found {} 1\n",
      "Number of faces found {} 1\n",
      "Number of faces found {} 1\n",
      "Number of faces found {} 1\n",
      "Number of faces found {} 1\n"
     ]
    }
   ],
   "source": [
    "while 1:\n",
    "    ret , pic = video_capture.read()\n",
    "    faces = face_cascade.detectMultiScale(pic, scale_factor,5)\n",
    "    \n",
    "    for (x,y,w,h) in faces:\n",
    "        cv2.rectangle(pic , (x,y), (x+w , y+h) ,(255,0,0), 3)\n",
    "        font = cv2.FONT_HERSHEY_SIMPLEX\n",
    "        cv2.putText(pic, 'ME' ,(x,y),font,2,(255,255,255),2,cv2.LINE_AA)\n",
    "    \n",
    "    print(\"Number of faces found {}\",format(len(faces)))\n",
    "    cv2.imshow('face',pic)\n",
    "    k = cv2.waitKey(30) & 0xff\n",
    "    if k==27:\n",
    "        break;\n",
    "video_capture.release()"
   ]
  },
  {
   "cell_type": "code",
   "execution_count": null,
   "metadata": {},
   "outputs": [],
   "source": []
  },
  {
   "cell_type": "code",
   "execution_count": null,
   "metadata": {},
   "outputs": [],
   "source": []
  }
 ],
 "metadata": {
  "kernelspec": {
   "display_name": "Python 3",
   "language": "python",
   "name": "python3"
  },
  "language_info": {
   "codemirror_mode": {
    "name": "ipython",
    "version": 3
   },
   "file_extension": ".py",
   "mimetype": "text/x-python",
   "name": "python",
   "nbconvert_exporter": "python",
   "pygments_lexer": "ipython3",
   "version": "3.8.3"
  }
 },
 "nbformat": 4,
 "nbformat_minor": 4
}
